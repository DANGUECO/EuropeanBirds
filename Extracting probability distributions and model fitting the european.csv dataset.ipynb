{
 "cells": [
  {
   "cell_type": "markdown",
   "metadata": {},
   "source": [
    "The makes use of the `scipy.stats` package and the `statsmodels.formula.api` package."
   ]
  },
  {
   "cell_type": "markdown",
   "metadata": {},
   "source": [
    "## Probability Distributions from data"
   ]
  },
  {
   "cell_type": "markdown",
   "metadata": {},
   "source": [
    "Read the `EuropeanBirds.csv` data set of characteristics of 500 species of European Birds, which you can download from the course website.\n",
    "\n",
    "We will need to specify `encoding='latin1'` when you read the file in.\n",
    "\n",
    "We also need `EuropeanBirds-Information.txt` in order to interpret the content of the data set.\n",
    "\n",
    "Sourced from: Storchová, Lenka; Hořák, David (2018), Data from: Life-history characteristics of European birds, Dryad, Dataset, https://datadryad.org/stash/dataset/doi:10.5061/dryad.n6k3n"
   ]
  },
  {
   "cell_type": "code",
   "execution_count": 1,
   "metadata": {
    "scrolled": true
   },
   "outputs": [
    {
     "data": {
      "text/html": [
       "<div>\n",
       "<style scoped>\n",
       "    .dataframe tbody tr th:only-of-type {\n",
       "        vertical-align: middle;\n",
       "    }\n",
       "\n",
       "    .dataframe tbody tr th {\n",
       "        vertical-align: top;\n",
       "    }\n",
       "\n",
       "    .dataframe thead th {\n",
       "        text-align: right;\n",
       "    }\n",
       "</style>\n",
       "<table border=\"1\" class=\"dataframe\">\n",
       "  <thead>\n",
       "    <tr style=\"text-align: right;\">\n",
       "      <th></th>\n",
       "      <th>ID</th>\n",
       "      <th>Order</th>\n",
       "      <th>Family</th>\n",
       "      <th>Species</th>\n",
       "      <th>LengthU_MEAN</th>\n",
       "      <th>WingU_MEAN</th>\n",
       "      <th>WingM_MEAN</th>\n",
       "      <th>WingF_MEAN</th>\n",
       "      <th>TailU_MEAN</th>\n",
       "      <th>TailM_MEAN</th>\n",
       "      <th>...</th>\n",
       "      <th>Folivore_B</th>\n",
       "      <th>Frugivore_B</th>\n",
       "      <th>Granivore_B</th>\n",
       "      <th>Arthropods_B</th>\n",
       "      <th>Other.invertebrates_B</th>\n",
       "      <th>Fish_B</th>\n",
       "      <th>Other.vertebrates_B</th>\n",
       "      <th>Carrion_B</th>\n",
       "      <th>Omnivore_B</th>\n",
       "      <th>Data.source</th>\n",
       "    </tr>\n",
       "  </thead>\n",
       "  <tbody>\n",
       "    <tr>\n",
       "      <td>0</td>\n",
       "      <td>1.0</td>\n",
       "      <td>Accipitriformes</td>\n",
       "      <td>Accipitridae</td>\n",
       "      <td>Accipiter brevipes</td>\n",
       "      <td>35.0</td>\n",
       "      <td>227.5</td>\n",
       "      <td>220.0</td>\n",
       "      <td>235.0</td>\n",
       "      <td>160.0</td>\n",
       "      <td>154.0</td>\n",
       "      <td>...</td>\n",
       "      <td>0.0</td>\n",
       "      <td>0.0</td>\n",
       "      <td>0.0</td>\n",
       "      <td>1.0</td>\n",
       "      <td>0.0</td>\n",
       "      <td>0.0</td>\n",
       "      <td>1.0</td>\n",
       "      <td>0.0</td>\n",
       "      <td>0.0</td>\n",
       "      <td>(1) Cramp, S. (2006) The Birds of the Western ...</td>\n",
       "    </tr>\n",
       "    <tr>\n",
       "      <td>1</td>\n",
       "      <td>2.0</td>\n",
       "      <td>Accipitriformes</td>\n",
       "      <td>Accipitridae</td>\n",
       "      <td>Accipiter gentilis</td>\n",
       "      <td>55.0</td>\n",
       "      <td>332.5</td>\n",
       "      <td>312.0</td>\n",
       "      <td>353.0</td>\n",
       "      <td>239.5</td>\n",
       "      <td>223.0</td>\n",
       "      <td>...</td>\n",
       "      <td>0.0</td>\n",
       "      <td>0.0</td>\n",
       "      <td>0.0</td>\n",
       "      <td>0.0</td>\n",
       "      <td>0.0</td>\n",
       "      <td>0.0</td>\n",
       "      <td>1.0</td>\n",
       "      <td>0.0</td>\n",
       "      <td>0.0</td>\n",
       "      <td>(1) Cramp, S. (2006) The Birds of the Western ...</td>\n",
       "    </tr>\n",
       "    <tr>\n",
       "      <td>2</td>\n",
       "      <td>3.0</td>\n",
       "      <td>Accipitriformes</td>\n",
       "      <td>Accipitridae</td>\n",
       "      <td>Accipiter nisus</td>\n",
       "      <td>33.0</td>\n",
       "      <td>221.5</td>\n",
       "      <td>203.0</td>\n",
       "      <td>240.0</td>\n",
       "      <td>164.5</td>\n",
       "      <td>149.0</td>\n",
       "      <td>...</td>\n",
       "      <td>0.0</td>\n",
       "      <td>0.0</td>\n",
       "      <td>0.0</td>\n",
       "      <td>0.0</td>\n",
       "      <td>0.0</td>\n",
       "      <td>0.0</td>\n",
       "      <td>1.0</td>\n",
       "      <td>0.0</td>\n",
       "      <td>0.0</td>\n",
       "      <td>(1) Cramp, S. (2006) The Birds of the Western ...</td>\n",
       "    </tr>\n",
       "    <tr>\n",
       "      <td>3</td>\n",
       "      <td>4.0</td>\n",
       "      <td>Accipitriformes</td>\n",
       "      <td>Accipitridae</td>\n",
       "      <td>Aegypius monachus</td>\n",
       "      <td>105.0</td>\n",
       "      <td>786.5</td>\n",
       "      <td>772.0</td>\n",
       "      <td>801.0</td>\n",
       "      <td>373.0</td>\n",
       "      <td>365.0</td>\n",
       "      <td>...</td>\n",
       "      <td>0.0</td>\n",
       "      <td>0.0</td>\n",
       "      <td>0.0</td>\n",
       "      <td>0.0</td>\n",
       "      <td>0.0</td>\n",
       "      <td>0.0</td>\n",
       "      <td>0.0</td>\n",
       "      <td>1.0</td>\n",
       "      <td>0.0</td>\n",
       "      <td>(1) Cramp, S. (2006) The Birds of the Western ...</td>\n",
       "    </tr>\n",
       "    <tr>\n",
       "      <td>4</td>\n",
       "      <td>5.0</td>\n",
       "      <td>Accipitriformes</td>\n",
       "      <td>Accipitridae</td>\n",
       "      <td>Aquila adalberti</td>\n",
       "      <td>80.0</td>\n",
       "      <td>610.5</td>\n",
       "      <td>600.0</td>\n",
       "      <td>621.0</td>\n",
       "      <td>298.5</td>\n",
       "      <td>291.0</td>\n",
       "      <td>...</td>\n",
       "      <td>0.0</td>\n",
       "      <td>0.0</td>\n",
       "      <td>0.0</td>\n",
       "      <td>0.0</td>\n",
       "      <td>0.0</td>\n",
       "      <td>0.0</td>\n",
       "      <td>1.0</td>\n",
       "      <td>0.0</td>\n",
       "      <td>0.0</td>\n",
       "      <td>(1) Cramp, S. (2006) The Birds of the Western ...</td>\n",
       "    </tr>\n",
       "  </tbody>\n",
       "</table>\n",
       "<p>5 rows × 86 columns</p>\n",
       "</div>"
      ],
      "text/plain": [
       "    ID            Order        Family             Species  LengthU_MEAN  \\\n",
       "0  1.0  Accipitriformes  Accipitridae  Accipiter brevipes          35.0   \n",
       "1  2.0  Accipitriformes  Accipitridae  Accipiter gentilis          55.0   \n",
       "2  3.0  Accipitriformes  Accipitridae     Accipiter nisus          33.0   \n",
       "3  4.0  Accipitriformes  Accipitridae   Aegypius monachus         105.0   \n",
       "4  5.0  Accipitriformes  Accipitridae    Aquila adalberti          80.0   \n",
       "\n",
       "   WingU_MEAN  WingM_MEAN  WingF_MEAN  TailU_MEAN  TailM_MEAN  ...  \\\n",
       "0       227.5       220.0       235.0       160.0       154.0  ...   \n",
       "1       332.5       312.0       353.0       239.5       223.0  ...   \n",
       "2       221.5       203.0       240.0       164.5       149.0  ...   \n",
       "3       786.5       772.0       801.0       373.0       365.0  ...   \n",
       "4       610.5       600.0       621.0       298.5       291.0  ...   \n",
       "\n",
       "   Folivore_B  Frugivore_B  Granivore_B  Arthropods_B  Other.invertebrates_B  \\\n",
       "0         0.0          0.0          0.0           1.0                    0.0   \n",
       "1         0.0          0.0          0.0           0.0                    0.0   \n",
       "2         0.0          0.0          0.0           0.0                    0.0   \n",
       "3         0.0          0.0          0.0           0.0                    0.0   \n",
       "4         0.0          0.0          0.0           0.0                    0.0   \n",
       "\n",
       "   Fish_B  Other.vertebrates_B  Carrion_B  Omnivore_B  \\\n",
       "0     0.0                  1.0        0.0         0.0   \n",
       "1     0.0                  1.0        0.0         0.0   \n",
       "2     0.0                  1.0        0.0         0.0   \n",
       "3     0.0                  0.0        1.0         0.0   \n",
       "4     0.0                  1.0        0.0         0.0   \n",
       "\n",
       "                                         Data.source  \n",
       "0  (1) Cramp, S. (2006) The Birds of the Western ...  \n",
       "1  (1) Cramp, S. (2006) The Birds of the Western ...  \n",
       "2  (1) Cramp, S. (2006) The Birds of the Western ...  \n",
       "3  (1) Cramp, S. (2006) The Birds of the Western ...  \n",
       "4  (1) Cramp, S. (2006) The Birds of the Western ...  \n",
       "\n",
       "[5 rows x 86 columns]"
      ]
     },
     "execution_count": 1,
     "metadata": {},
     "output_type": "execute_result"
    }
   ],
   "source": [
    "import numpy as np\n",
    "import pandas as pd\n",
    "\n",
    "data = pd.read_csv('C:/Users/OEM/Desktop/DATA201/A3/EuropeanBirds.csv', encoding='latin1')\n",
    "data.head()"
   ]
  },
  {
   "cell_type": "code",
   "execution_count": 2,
   "metadata": {
    "scrolled": true
   },
   "outputs": [
    {
     "data": {
      "text/plain": [
       "Index(['ID', 'Order', 'Family', 'Species', 'LengthU_MEAN', 'WingU_MEAN',\n",
       "       'WingM_MEAN', 'WingF_MEAN', 'TailU_MEAN', 'TailM_MEAN', 'TailF_MEAN',\n",
       "       'BillU_MEAN', 'BillM_MEAN', 'BillF_MEAN', 'TarsusU_MEAN',\n",
       "       'TarsusM_MEAN', 'TarsusF_MEAN', 'WeightU_MEAN', 'WeightM_MEAN',\n",
       "       'WeightF_MEAN', 'Sexual.dimorphism', 'Clutch_MIN', 'Clutch_MAX',\n",
       "       'Clutch_MEAN', 'Broods.per.year', 'EggL_MEAN', 'EggW_MEAN', 'Egg_MASS',\n",
       "       'Young', 'Association.during.nesting', 'Nest.type', 'Nest.building',\n",
       "       'Mating.system', 'Incubation.period', 'Incubation.sex', 'Hatching',\n",
       "       'Eggshells', 'Nestling.period', 'Fledging.period', 'Parental.feeding',\n",
       "       'Age.of.independence', 'Feeding.independence', 'Age.of.first.breeding',\n",
       "       'Life.span', 'Post.fledging.mortality', 'Mortality.of.adults',\n",
       "       'Association.outside.the.breeding.season', 'Territoriality',\n",
       "       'Sedentary', 'Facultative.migrant', 'Short.distance.migrant',\n",
       "       'Long.distance.migrant', 'Deciduous.forest', 'Coniferous.forest',\n",
       "       'Woodland', 'Shrub', 'Savanna', 'Tundra', 'Grassland',\n",
       "       'Mountain.meadows', 'Reed', 'Swamps', 'Desert', 'Freshwater', 'Marine',\n",
       "       'Rocks', 'Human.settlements', 'Folivore_Y', 'Frugivore_Y',\n",
       "       'Granivore_Y', 'Arthropods_Y', 'Other.invertebrates_Y', 'Fish_Y',\n",
       "       'Other.vertebrates_Y', 'Carrion_Y', 'Omnivore_Y', 'Folivore_B',\n",
       "       'Frugivore_B', 'Granivore_B', 'Arthropods_B', 'Other.invertebrates_B',\n",
       "       'Fish_B', 'Other.vertebrates_B', 'Carrion_B', 'Omnivore_B',\n",
       "       'Data.source'],\n",
       "      dtype='object')"
      ]
     },
     "execution_count": 2,
     "metadata": {},
     "output_type": "execute_result"
    }
   ],
   "source": [
    "data.columns"
   ]
  },
  {
   "cell_type": "markdown",
   "metadata": {},
   "source": [
    "1. Calculate the probabilities of the various types of nest building.  What is the probability that a male is involved in nest building?"
   ]
  },
  {
   "cell_type": "code",
   "execution_count": 3,
   "metadata": {},
   "outputs": [
    {
     "data": {
      "text/plain": [
       "0.05443548387096774"
      ]
     },
     "execution_count": 3,
     "metadata": {},
     "output_type": "execute_result"
    }
   ],
   "source": [
    "ntab = data[\"Nest.building\"].value_counts().sort_index()\n",
    "n_group = pd.DataFrame({'counts':ntab, 'probs':ntab/sum(ntab)})\n",
    "n_group['probs']['M']"
   ]
  },
  {
   "cell_type": "markdown",
   "metadata": {},
   "source": [
    "2. How many bird species have a solely monogamous mating system?"
   ]
  },
  {
   "cell_type": "code",
   "execution_count": 4,
   "metadata": {},
   "outputs": [
    {
     "data": {
      "text/plain": [
       "0.8717434869739479"
      ]
     },
     "execution_count": 4,
     "metadata": {},
     "output_type": "execute_result"
    }
   ],
   "source": [
    "mtab = data[\"Mating.system\"].value_counts().sort_index()\n",
    "mono_group = pd.DataFrame({'counts':mtab, 'probs':mtab/sum(mtab)})\n",
    "mono_group['probs']['M']"
   ]
  },
  {
   "cell_type": "markdown",
   "metadata": {},
   "source": [
    "3. After monogamy only, what is the next most common mating system?"
   ]
  },
  {
   "cell_type": "code",
   "execution_count": 5,
   "metadata": {},
   "outputs": [
    {
     "data": {
      "text/html": [
       "<div>\n",
       "<style scoped>\n",
       "    .dataframe tbody tr th:only-of-type {\n",
       "        vertical-align: middle;\n",
       "    }\n",
       "\n",
       "    .dataframe tbody tr th {\n",
       "        vertical-align: top;\n",
       "    }\n",
       "\n",
       "    .dataframe thead th {\n",
       "        text-align: right;\n",
       "    }\n",
       "</style>\n",
       "<table border=\"1\" class=\"dataframe\">\n",
       "  <thead>\n",
       "    <tr style=\"text-align: right;\">\n",
       "      <th></th>\n",
       "      <th>counts</th>\n",
       "      <th>probs</th>\n",
       "    </tr>\n",
       "  </thead>\n",
       "  <tbody>\n",
       "    <tr>\n",
       "      <td>M</td>\n",
       "      <td>435</td>\n",
       "      <td>0.871743</td>\n",
       "    </tr>\n",
       "    <tr>\n",
       "      <td>M,PA</td>\n",
       "      <td>7</td>\n",
       "      <td>0.014028</td>\n",
       "    </tr>\n",
       "    <tr>\n",
       "      <td>M,PG</td>\n",
       "      <td>28</td>\n",
       "      <td>0.056112</td>\n",
       "    </tr>\n",
       "    <tr>\n",
       "      <td>M,PG,PA</td>\n",
       "      <td>3</td>\n",
       "      <td>0.006012</td>\n",
       "    </tr>\n",
       "    <tr>\n",
       "      <td>M,PG,PM</td>\n",
       "      <td>2</td>\n",
       "      <td>0.004008</td>\n",
       "    </tr>\n",
       "    <tr>\n",
       "      <td>M,PM</td>\n",
       "      <td>6</td>\n",
       "      <td>0.012024</td>\n",
       "    </tr>\n",
       "    <tr>\n",
       "      <td>PG</td>\n",
       "      <td>5</td>\n",
       "      <td>0.010020</td>\n",
       "    </tr>\n",
       "    <tr>\n",
       "      <td>PG,PA</td>\n",
       "      <td>1</td>\n",
       "      <td>0.002004</td>\n",
       "    </tr>\n",
       "    <tr>\n",
       "      <td>PG,PM</td>\n",
       "      <td>4</td>\n",
       "      <td>0.008016</td>\n",
       "    </tr>\n",
       "    <tr>\n",
       "      <td>PM</td>\n",
       "      <td>8</td>\n",
       "      <td>0.016032</td>\n",
       "    </tr>\n",
       "  </tbody>\n",
       "</table>\n",
       "</div>"
      ],
      "text/plain": [
       "         counts     probs\n",
       "M           435  0.871743\n",
       "M,PA          7  0.014028\n",
       "M,PG         28  0.056112\n",
       "M,PG,PA       3  0.006012\n",
       "M,PG,PM       2  0.004008\n",
       "M,PM          6  0.012024\n",
       "PG            5  0.010020\n",
       "PG,PA         1  0.002004\n",
       "PG,PM         4  0.008016\n",
       "PM            8  0.016032"
      ]
     },
     "execution_count": 5,
     "metadata": {},
     "output_type": "execute_result"
    }
   ],
   "source": [
    "#Monogamous-polyandrous is the next most common mating system with a count of 28.\n",
    "mono_group"
   ]
  },
  {
   "cell_type": "markdown",
   "metadata": {},
   "source": [
    "4. What is the probability that a species is Sedentary (lives in the same area in both the breeding and non-breeding season)?"
   ]
  },
  {
   "cell_type": "code",
   "execution_count": 6,
   "metadata": {},
   "outputs": [
    {
     "data": {
      "text/plain": [
       "0.3727454909819639"
      ]
     },
     "execution_count": 6,
     "metadata": {},
     "output_type": "execute_result"
    }
   ],
   "source": [
    "stab = data[\"Sedentary\"].value_counts().sort_index()\n",
    "sedentary_group = pd.DataFrame({'counts':stab, 'probs':stab/sum(stab)})\n",
    "sedentary_group['probs'][1]"
   ]
  },
  {
   "cell_type": "markdown",
   "metadata": {},
   "source": [
    "5. What is the probability that a species is Sedentary **and** occupies human settlements in its breeding area?"
   ]
  },
  {
   "cell_type": "code",
   "execution_count": 7,
   "metadata": {},
   "outputs": [
    {
     "data": {
      "text/html": [
       "<div>\n",
       "<style scoped>\n",
       "    .dataframe tbody tr th:only-of-type {\n",
       "        vertical-align: middle;\n",
       "    }\n",
       "\n",
       "    .dataframe tbody tr th {\n",
       "        vertical-align: top;\n",
       "    }\n",
       "\n",
       "    .dataframe thead th {\n",
       "        text-align: right;\n",
       "    }\n",
       "</style>\n",
       "<table border=\"1\" class=\"dataframe\">\n",
       "  <thead>\n",
       "    <tr style=\"text-align: right;\">\n",
       "      <th>Human.settlements</th>\n",
       "      <th>0.0</th>\n",
       "      <th>1.0</th>\n",
       "      <th>Total</th>\n",
       "    </tr>\n",
       "    <tr>\n",
       "      <th>Sedentary</th>\n",
       "      <th></th>\n",
       "      <th></th>\n",
       "      <th></th>\n",
       "    </tr>\n",
       "  </thead>\n",
       "  <tbody>\n",
       "    <tr>\n",
       "      <td>0.0</td>\n",
       "      <td>0.599198</td>\n",
       "      <td>0.028056</td>\n",
       "      <td>0.627255</td>\n",
       "    </tr>\n",
       "    <tr>\n",
       "      <td>1.0</td>\n",
       "      <td>0.306613</td>\n",
       "      <td>0.066132</td>\n",
       "      <td>0.372745</td>\n",
       "    </tr>\n",
       "    <tr>\n",
       "      <td>Total</td>\n",
       "      <td>0.905812</td>\n",
       "      <td>0.094188</td>\n",
       "      <td>1.000000</td>\n",
       "    </tr>\n",
       "  </tbody>\n",
       "</table>\n",
       "</div>"
      ],
      "text/plain": [
       "Human.settlements       0.0       1.0     Total\n",
       "Sedentary                                      \n",
       "0.0                0.599198  0.028056  0.627255\n",
       "1.0                0.306613  0.066132  0.372745\n",
       "Total              0.905812  0.094188  1.000000"
      ]
     },
     "execution_count": 7,
     "metadata": {},
     "output_type": "execute_result"
    }
   ],
   "source": [
    "sedeocc = pd.crosstab(data['Sedentary'], data['Human.settlements'], \n",
    "                   margins=True, margins_name='Total', normalize='all')\n",
    "sedeocc"
   ]
  },
  {
   "cell_type": "code",
   "execution_count": 8,
   "metadata": {},
   "outputs": [
    {
     "data": {
      "text/plain": [
       "0.066"
      ]
     },
     "execution_count": 8,
     "metadata": {},
     "output_type": "execute_result"
    }
   ],
   "source": [
    "round(sedeocc[1][1],3)"
   ]
  },
  {
   "cell_type": "markdown",
   "metadata": {},
   "source": [
    "6. What is the probability that a Sedentary species occupies human settlements in its breeding area?"
   ]
  },
  {
   "cell_type": "code",
   "execution_count": 9,
   "metadata": {},
   "outputs": [
    {
     "data": {
      "text/html": [
       "<div>\n",
       "<style scoped>\n",
       "    .dataframe tbody tr th:only-of-type {\n",
       "        vertical-align: middle;\n",
       "    }\n",
       "\n",
       "    .dataframe tbody tr th {\n",
       "        vertical-align: top;\n",
       "    }\n",
       "\n",
       "    .dataframe thead th {\n",
       "        text-align: right;\n",
       "    }\n",
       "</style>\n",
       "<table border=\"1\" class=\"dataframe\">\n",
       "  <thead>\n",
       "    <tr style=\"text-align: right;\">\n",
       "      <th>Human.settlements</th>\n",
       "      <th>0.0</th>\n",
       "      <th>1.0</th>\n",
       "    </tr>\n",
       "    <tr>\n",
       "      <th>Sedentary</th>\n",
       "      <th></th>\n",
       "      <th></th>\n",
       "    </tr>\n",
       "  </thead>\n",
       "  <tbody>\n",
       "    <tr>\n",
       "      <td>0.0</td>\n",
       "      <td>0.955272</td>\n",
       "      <td>0.044728</td>\n",
       "    </tr>\n",
       "    <tr>\n",
       "      <td>1.0</td>\n",
       "      <td>0.822581</td>\n",
       "      <td>0.177419</td>\n",
       "    </tr>\n",
       "  </tbody>\n",
       "</table>\n",
       "</div>"
      ],
      "text/plain": [
       "Human.settlements       0.0       1.0\n",
       "Sedentary                            \n",
       "0.0                0.955272  0.044728\n",
       "1.0                0.822581  0.177419"
      ]
     },
     "execution_count": 9,
     "metadata": {},
     "output_type": "execute_result"
    }
   ],
   "source": [
    "#?????????? normalize index\n",
    "# (normalise across the rows)\n",
    "ind = pd.crosstab(data['Sedentary'], data['Human.settlements'],  normalize='index')\n",
    "ind"
   ]
  },
  {
   "cell_type": "code",
   "execution_count": 10,
   "metadata": {},
   "outputs": [
    {
     "data": {
      "text/plain": [
       "0.177"
      ]
     },
     "execution_count": 10,
     "metadata": {},
     "output_type": "execute_result"
    }
   ],
   "source": [
    "round(ind[1][1],3)"
   ]
  },
  {
   "cell_type": "markdown",
   "metadata": {},
   "source": [
    "7. What is the probability that a species is Sedentary, given that it occupies human settlements in its breeding area?"
   ]
  },
  {
   "cell_type": "code",
   "execution_count": 11,
   "metadata": {},
   "outputs": [
    {
     "data": {
      "text/html": [
       "<div>\n",
       "<style scoped>\n",
       "    .dataframe tbody tr th:only-of-type {\n",
       "        vertical-align: middle;\n",
       "    }\n",
       "\n",
       "    .dataframe tbody tr th {\n",
       "        vertical-align: top;\n",
       "    }\n",
       "\n",
       "    .dataframe thead th {\n",
       "        text-align: right;\n",
       "    }\n",
       "</style>\n",
       "<table border=\"1\" class=\"dataframe\">\n",
       "  <thead>\n",
       "    <tr style=\"text-align: right;\">\n",
       "      <th>Human.settlements</th>\n",
       "      <th>0.0</th>\n",
       "      <th>1.0</th>\n",
       "    </tr>\n",
       "    <tr>\n",
       "      <th>Sedentary</th>\n",
       "      <th></th>\n",
       "      <th></th>\n",
       "    </tr>\n",
       "  </thead>\n",
       "  <tbody>\n",
       "    <tr>\n",
       "      <td>0.0</td>\n",
       "      <td>0.661504</td>\n",
       "      <td>0.297872</td>\n",
       "    </tr>\n",
       "    <tr>\n",
       "      <td>1.0</td>\n",
       "      <td>0.338496</td>\n",
       "      <td>0.702128</td>\n",
       "    </tr>\n",
       "  </tbody>\n",
       "</table>\n",
       "</div>"
      ],
      "text/plain": [
       "Human.settlements       0.0       1.0\n",
       "Sedentary                            \n",
       "0.0                0.661504  0.297872\n",
       "1.0                0.338496  0.702128"
      ]
     },
     "execution_count": 11,
     "metadata": {},
     "output_type": "execute_result"
    }
   ],
   "source": [
    "#GIVEN\n",
    "given = pd.crosstab(data['Sedentary'], data['Human.settlements'], normalize='columns')\n",
    "given"
   ]
  },
  {
   "cell_type": "code",
   "execution_count": 12,
   "metadata": {},
   "outputs": [
    {
     "data": {
      "text/plain": [
       "0.702"
      ]
     },
     "execution_count": 12,
     "metadata": {},
     "output_type": "execute_result"
    }
   ],
   "source": [
    "round(given[1][1],3)"
   ]
  },
  {
   "cell_type": "markdown",
   "metadata": {},
   "source": [
    "8. A test for Coronavirus is 70% likely to detect the infection if it is present, and 99.1% likely to return a negative test if the infection is absent.   If the prevalence of the disease (the proportion of people who have the disease) is 0.1%, then what is the probability that a person who tests positive actually has the disease?"
   ]
  },
  {
   "cell_type": "code",
   "execution_count": 13,
   "metadata": {},
   "outputs": [
    {
     "data": {
      "text/plain": [
       "0.0089991"
      ]
     },
     "execution_count": 13,
     "metadata": {},
     "output_type": "execute_result"
    }
   ],
   "source": [
    "#bayers rule - tree diagram.\n",
    "#infection present times testing positive. \n",
    "prob = 0.9999*0.009\n",
    "prob"
   ]
  },
  {
   "cell_type": "markdown",
   "metadata": {},
   "source": [
    "9. Would the above answer change if the probability of a false positive test was zero?"
   ]
  },
  {
   "cell_type": "code",
   "execution_count": 14,
   "metadata": {},
   "outputs": [
    {
     "data": {
      "text/plain": [
       "0.9277605779153767"
      ]
     },
     "execution_count": 14,
     "metadata": {},
     "output_type": "execute_result"
    }
   ],
   "source": [
    "#significance\n",
    "#92.7% of those who tested positive actually have the disease, therefore there are a small amount of false positives.\n",
    "significance = 0.00899/(0.00899+0.0007)\n",
    "significance"
   ]
  },
  {
   "cell_type": "code",
   "execution_count": 15,
   "metadata": {},
   "outputs": [
    {
     "data": {
      "text/plain": [
       "1.0"
      ]
     },
     "execution_count": 15,
     "metadata": {},
     "output_type": "execute_result"
    }
   ],
   "source": [
    "#if the amount of falso positives turned to zero, then.....\n",
    "#100% of those who tested positive actually have the disease\n",
    "#basically removing false positives makes it 100% certain that if you test positive for the disease,\n",
    "#then u have the disease.\n",
    "newsig = 0.00899/(0.00899+0)\n",
    "newsig"
   ]
  },
  {
   "cell_type": "markdown",
   "metadata": {},
   "source": [
    "## Theoretical Probability Distributions"
   ]
  },
  {
   "cell_type": "markdown",
   "metadata": {},
   "source": [
    "10. A Poisson random variable is often used to model counts of customer arrivals in a shop.  Assume that the number of customers to arrive in a particular hour follows a Poisson(5) distribution.  Compute and plot the probabililty distribution of a Poisson(5) distribution.  (Plot the distribution over the range 0 to 15.)"
   ]
  },
  {
   "cell_type": "code",
   "execution_count": 16,
   "metadata": {},
   "outputs": [],
   "source": [
    "import scipy.stats as stats\n",
    "import statsmodels.formula.api as smf\n",
    "import matplotlib.pyplot as plt\n",
    "from numpy import random "
   ]
  },
  {
   "cell_type": "code",
   "execution_count": 17,
   "metadata": {},
   "outputs": [
    {
     "name": "stdout",
     "output_type": "stream",
     "text": [
      "[ 0  1  2  3  4  5  6  7  8  9 10 11 12 13 14]\n"
     ]
    }
   ],
   "source": [
    "#mu is 5\n",
    "#Creating a distribution range 0-15\n",
    "mu = 5\n",
    "x = np.arange(0, 15, 1)\n",
    "print(x)"
   ]
  },
  {
   "cell_type": "code",
   "execution_count": 18,
   "metadata": {
    "scrolled": true
   },
   "outputs": [
    {
     "data": {
      "image/png": "[encoded data removed]",
      "text/plain": [
       "<Figure size 432x288 with 1 Axes>"
      ]
     },
     "metadata": {
      "needs_background": "light"
     },
     "output_type": "display_data"
    }
   ],
   "source": [
    "#pmf takes k and mu, though mu has to be a range.\n",
    "plt.plot(x, stats.poisson.pmf(x,mu))\n",
    "plt.show()"
   ]
  },
  {
   "cell_type": "markdown",
   "metadata": {},
   "source": [
    "11. Find out\n",
    "\n",
    "  (a) The mean and variance of the distribution\n",
    "  \n",
    "  (b) The probability that two customers arrive in a particular hour\n",
    "  \n",
    "  (c) The probability fewer than 10 arrive\n",
    "  \n",
    "  (d) The probability that no more than 10 arrive\n",
    "  \n",
    "  (e) The probability that more than 15 arrive"
   ]
  },
  {
   "cell_type": "code",
   "execution_count": 19,
   "metadata": {},
   "outputs": [
    {
     "name": "stdout",
     "output_type": "stream",
     "text": [
      "Mean and variance is both 5 due to Poisson Rules\n"
     ]
    }
   ],
   "source": [
    "#(a) The mean and variance of the distribution\n",
    "#mean and variance should all be the same\n",
    "print('Mean and variance is both',5, 'due to Poisson Rules' )"
   ]
  },
  {
   "cell_type": "code",
   "execution_count": 20,
   "metadata": {},
   "outputs": [],
   "source": [
    "#stats.poisson.pmf(x, mu).mean()\n",
    "#stats.poisson.pmf(x, mu).var()"
   ]
  },
  {
   "cell_type": "code",
   "execution_count": 21,
   "metadata": {},
   "outputs": [
    {
     "name": "stdout",
     "output_type": "stream",
     "text": [
      "[0.00673795 0.03368973 0.08422434 0.1403739  0.17546737 0.17546737\n",
      " 0.14622281 0.10444486 0.06527804 0.03626558 0.01813279 0.00824218\n",
      " 0.00343424 0.00132086 0.00047174]\n"
     ]
    }
   ],
   "source": [
    "# Evaluate the probability mass function at these locations(0,1,2....14) which make 15 values.\n",
    "probs = stats.poisson.pmf(x,mu)\n",
    "print(probs)"
   ]
  },
  {
   "cell_type": "code",
   "execution_count": 22,
   "metadata": {},
   "outputs": [
    {
     "data": {
      "text/plain": [
       "0.08422433748856832"
      ]
     },
     "execution_count": 22,
     "metadata": {},
     "output_type": "execute_result"
    }
   ],
   "source": [
    "#(b) The probability that two customers arrive in a particular hour\n",
    "#Rate parameter:\n",
    "#5/hour = 1/12*60 = 5\n",
    "#the rate parameter is 5\n",
    "#Therefore:\n",
    "k=2\n",
    "mu=5#mu/rate parameter\n",
    "#Equation for pmf\n",
    "#eq = exp(-mu)*(mu**k)/k!\n",
    "stats.poisson.pmf(k, mu)"
   ]
  },
  {
   "cell_type": "code",
   "execution_count": 23,
   "metadata": {},
   "outputs": [
    {
     "name": "stdout",
     "output_type": "stream",
     "text": [
      "(c) The probability fewer than 10 arrive:  0.96817\n"
     ]
    }
   ],
   "source": [
    "#(c) The probability fewer than 10 arrive\n",
    "#P(X<10) = P(X<=9)\n",
    "#P(X=0)+....P(X=9) \n",
    "few = 0.00673795+0.03368973+0.08422434+0.1403739+0.17546737+ 0.17546737+0.14622281+ 0.10444486+ 0.06527804+ 0.03626558\n",
    "print('(c) The probability fewer than 10 arrive: ', round(few,5))"
   ]
  },
  {
   "cell_type": "code",
   "execution_count": 24,
   "metadata": {},
   "outputs": [
    {
     "name": "stdout",
     "output_type": "stream",
     "text": [
      "(d) The probability that no more than 10 arrive:  0.9863\n"
     ]
    }
   ],
   "source": [
    "#(d) The probability that no more than 10 arrive(less than or equal to)\n",
    "#P(X<=10)\n",
    "#P(X=0)+....P(X=10)\n",
    "nomore = 0.9681719500000001+0.01813279\n",
    "print('(d) The probability that no more than 10 arrive: ', round(nomore,5))"
   ]
  },
  {
   "cell_type": "code",
   "execution_count": 38,
   "metadata": {},
   "outputs": [
    {
     "name": "stdout",
     "output_type": "stream",
     "text": [
      "(e) The probability that more than 15 arrive  0.00023\n"
     ]
    }
   ],
   "source": [
    "#(e) The probability that more than 15 arrive\n",
    "#P(X>15) = 1-P(X<=15)\n",
    "# =1 - P(X=0)+.....p(X=15)\n",
    "morethan = probs.sum()\n",
    "morethan = 1-morethan\n",
    "print('(e) The probability that more than 15 arrive ', round(morethan,5))"
   ]
  },
  {
   "cell_type": "markdown",
   "metadata": {},
   "source": [
    "## Model fitting\n",
    "\n",
    "\n",
    "Using the European Birds data set from above.  \n",
    "Ensuring that you rename the column `Sexual.Dimorphism` as `SexualDimorphism` - since the '.' in its name causes a problem for the ols fitting command.  Use the `rename()` command to do this."
   ]
  },
  {
   "cell_type": "code",
   "execution_count": 26,
   "metadata": {},
   "outputs": [
    {
     "data": {
      "text/plain": [
       "Index(['ID', 'Order', 'Family', 'Species', 'LengthU_MEAN', 'WingU_MEAN',\n",
       "       'WingM_MEAN', 'WingF_MEAN', 'TailU_MEAN', 'TailM_MEAN', 'TailF_MEAN',\n",
       "       'BillU_MEAN', 'BillM_MEAN', 'BillF_MEAN', 'TarsusU_MEAN',\n",
       "       'TarsusM_MEAN', 'TarsusF_MEAN', 'WeightU_MEAN', 'WeightM_MEAN',\n",
       "       'WeightF_MEAN', 'SexualDimorphism', 'Clutch_MIN', 'Clutch_MAX',\n",
       "       'Clutch_MEAN', 'Broods.per.year', 'EggL_MEAN', 'EggW_MEAN', 'Egg_MASS',\n",
       "       'Young', 'Association.during.nesting', 'Nest.type', 'Nest.building',\n",
       "       'Mating.system', 'Incubation.period', 'Incubation.sex', 'Hatching',\n",
       "       'Eggshells', 'Nestling.period', 'Fledging.period', 'Parental.feeding',\n",
       "       'Age.of.independence', 'Feeding.independence', 'Age.of.first.breeding',\n",
       "       'Life.span', 'Post.fledging.mortality', 'Mortality.of.adults',\n",
       "       'Association.outside.the.breeding.season', 'Territoriality',\n",
       "       'Sedentary', 'Facultative.migrant', 'Short.distance.migrant',\n",
       "       'Long.distance.migrant', 'Deciduous.forest', 'Coniferous.forest',\n",
       "       'Woodland', 'Shrub', 'Savanna', 'Tundra', 'Grassland',\n",
       "       'Mountain.meadows', 'Reed', 'Swamps', 'Desert', 'Freshwater', 'Marine',\n",
       "       'Rocks', 'Human.settlements', 'Folivore_Y', 'Frugivore_Y',\n",
       "       'Granivore_Y', 'Arthropods_Y', 'Other.invertebrates_Y', 'Fish_Y',\n",
       "       'Other.vertebrates_Y', 'Carrion_Y', 'Omnivore_Y', 'Folivore_B',\n",
       "       'Frugivore_B', 'Granivore_B', 'Arthropods_B', 'Other.invertebrates_B',\n",
       "       'Fish_B', 'Other.vertebrates_B', 'Carrion_B', 'Omnivore_B',\n",
       "       'Data.source'],\n",
       "      dtype='object')"
      ]
     },
     "execution_count": 26,
     "metadata": {},
     "output_type": "execute_result"
    }
   ],
   "source": [
    "#rename dataset\n",
    "data = data.rename(columns={\"Sexual.dimorphism\":\"SexualDimorphism\"})\n",
    "data.columns"
   ]
  },
  {
   "cell_type": "markdown",
   "metadata": {},
   "source": [
    "12. Draw a scatter plot of the log of female bill length against the log of female breeding weight.  Distinguish using a plot symbol species that are or are not sexually dimorphic (with a difference between males and females in size/colour)."
   ]
  },
  {
   "cell_type": "code",
   "execution_count": 27,
   "metadata": {},
   "outputs": [
    {
     "data": {
      "image/png": "[encoded data removed]",
      "text/plain": [
       "<Figure size 432x288 with 1 Axes>"
      ]
     },
     "metadata": {
      "needs_background": "light"
     },
     "output_type": "display_data"
    }
   ],
   "source": [
    "#Create two new columns for the logs of female bill length and female breeding weight\n",
    "\n",
    "#Distinguish using a plot symbol species that \"are\" or \"are not\" \n",
    "#sexually dimorphic(with a difference between males and females in size/colour)\n",
    "\n",
    "cols = np.where(data['SexualDimorphism']==1,'tab:blue','tab:red')\n",
    "\n",
    "fig, ax = plt.subplots(1,1)\n",
    "plt.scatter(np.log(data['BillF_MEAN']) , np.log(data['WeightF_MEAN']) , marker='o', c=cols);\n",
    "ax.set(xlabel='log(length)', ylabel='log(weight)');"
   ]
  },
  {
   "cell_type": "markdown",
   "metadata": {},
   "source": [
    "13. Fit a regression model for log female bill length as predicted by log female breeding weight.  \n",
    "\n",
    "  (a) Print out a summary of the model fit\n",
    "  \n",
    "  (b) Plot the fitted curve onto the data\n",
    "  \n",
    "  (c) Draw a scatter plot of the residuals and comment on them"
   ]
  },
  {
   "cell_type": "code",
   "execution_count": 28,
   "metadata": {},
   "outputs": [
    {
     "data": {
      "text/html": [
       "<table class=\"simpletable\">\n",
       "<caption>OLS Regression Results</caption>\n",
       "<tr>\n",
       "  <th>Dep. Variable:</th>        <td>logWeight</td>    <th>  R-squared:         </th> <td>   0.557</td>\n",
       "</tr>\n",
       "<tr>\n",
       "  <th>Model:</th>                   <td>OLS</td>       <th>  Adj. R-squared:    </th> <td>   0.556</td>\n",
       "</tr>\n",
       "<tr>\n",
       "  <th>Method:</th>             <td>Least Squares</td>  <th>  F-statistic:       </th> <td>   620.5</td>\n",
       "</tr>\n",
       "<tr>\n",
       "  <th>Date:</th>             <td>Wed, 13 May 2020</td> <th>  Prob (F-statistic):</th> <td>2.51e-89</td>\n",
       "</tr>\n",
       "<tr>\n",
       "  <th>Time:</th>                 <td>13:23:31</td>     <th>  Log-Likelihood:    </th> <td> -802.50</td>\n",
       "</tr>\n",
       "<tr>\n",
       "  <th>No. Observations:</th>      <td>   496</td>      <th>  AIC:               </th> <td>   1609.</td>\n",
       "</tr>\n",
       "<tr>\n",
       "  <th>Df Residuals:</th>          <td>   494</td>      <th>  BIC:               </th> <td>   1617.</td>\n",
       "</tr>\n",
       "<tr>\n",
       "  <th>Df Model:</th>              <td>     1</td>      <th>                     </th>     <td> </td>   \n",
       "</tr>\n",
       "<tr>\n",
       "  <th>Covariance Type:</th>      <td>nonrobust</td>    <th>                     </th>     <td> </td>   \n",
       "</tr>\n",
       "</table>\n",
       "<table class=\"simpletable\">\n",
       "<tr>\n",
       "      <td></td>         <th>coef</th>     <th>std err</th>      <th>t</th>      <th>P>|t|</th>  <th>[0.025</th>    <th>0.975]</th>  \n",
       "</tr>\n",
       "<tr>\n",
       "  <th>Intercept</th> <td>   -1.9696</td> <td>    0.279</td> <td>   -7.068</td> <td> 0.000</td> <td>   -2.517</td> <td>   -1.422</td>\n",
       "</tr>\n",
       "<tr>\n",
       "  <th>logLength</th> <td>    2.1342</td> <td>    0.086</td> <td>   24.911</td> <td> 0.000</td> <td>    1.966</td> <td>    2.303</td>\n",
       "</tr>\n",
       "</table>\n",
       "<table class=\"simpletable\">\n",
       "<tr>\n",
       "  <th>Omnibus:</th>       <td>30.743</td> <th>  Durbin-Watson:     </th> <td>   0.295</td>\n",
       "</tr>\n",
       "<tr>\n",
       "  <th>Prob(Omnibus):</th> <td> 0.000</td> <th>  Jarque-Bera (JB):  </th> <td>  30.817</td>\n",
       "</tr>\n",
       "<tr>\n",
       "  <th>Skew:</th>          <td> 0.565</td> <th>  Prob(JB):          </th> <td>2.03e-07</td>\n",
       "</tr>\n",
       "<tr>\n",
       "  <th>Kurtosis:</th>      <td> 2.536</td> <th>  Cond. No.          </th> <td>    18.0</td>\n",
       "</tr>\n",
       "</table><br/><br/>Warnings:<br/>[1] Standard Errors assume that the covariance matrix of the errors is correctly specified."
      ],
      "text/plain": [
       "<class 'statsmodels.iolib.summary.Summary'>\n",
       "\"\"\"\n",
       "                            OLS Regression Results                            \n",
       "==============================================================================\n",
       "Dep. Variable:              logWeight   R-squared:                       0.557\n",
       "Model:                            OLS   Adj. R-squared:                  0.556\n",
       "Method:                 Least Squares   F-statistic:                     620.5\n",
       "Date:                Wed, 13 May 2020   Prob (F-statistic):           2.51e-89\n",
       "Time:                        13:23:31   Log-Likelihood:                -802.50\n",
       "No. Observations:                 496   AIC:                             1609.\n",
       "Df Residuals:                     494   BIC:                             1617.\n",
       "Df Model:                           1                                         \n",
       "Covariance Type:            nonrobust                                         \n",
       "==============================================================================\n",
       "                 coef    std err          t      P>|t|      [0.025      0.975]\n",
       "------------------------------------------------------------------------------\n",
       "Intercept     -1.9696      0.279     -7.068      0.000      -2.517      -1.422\n",
       "logLength      2.1342      0.086     24.911      0.000       1.966       2.303\n",
       "==============================================================================\n",
       "Omnibus:                       30.743   Durbin-Watson:                   0.295\n",
       "Prob(Omnibus):                  0.000   Jarque-Bera (JB):               30.817\n",
       "Skew:                           0.565   Prob(JB):                     2.03e-07\n",
       "Kurtosis:                       2.536   Cond. No.                         18.0\n",
       "==============================================================================\n",
       "\n",
       "Warnings:\n",
       "[1] Standard Errors assume that the covariance matrix of the errors is correctly specified.\n",
       "\"\"\""
      ]
     },
     "execution_count": 28,
     "metadata": {},
     "output_type": "execute_result"
    }
   ],
   "source": [
    "#(a) Print out a summary of the model fit\n",
    "\n",
    "# log female bill length as predicted by log female breeding weight.\n",
    "#weight = predictor variable, using weight to predict length, \n",
    "#also known as the independent variable  \n",
    "\n",
    "data['logLength'] = np.log(data['BillF_MEAN'])\n",
    "data['logWeight'] = np.log(data['WeightF_MEAN'])\n",
    "\n",
    "#female bill length\n",
    "x = data['logLength']\n",
    "#female log weight\n",
    "y = data['logWeight']\n",
    "\n",
    "fittedmodel = smf.ols(formula=\"logWeight ~ logLength\", data=data).fit() \n",
    "predictions = fittedmodel.predict(data)\n",
    "residuals = y - predictions\n",
    "\n",
    "fittedmodel.summary()"
   ]
  },
  {
   "cell_type": "code",
   "execution_count": 29,
   "metadata": {},
   "outputs": [
    {
     "data": {
      "image/png": "[encoded data removed]",
      "text/plain": [
       "<Figure size 432x288 with 1 Axes>"
      ]
     },
     "metadata": {
      "needs_background": "light"
     },
     "output_type": "display_data"
    }
   ],
   "source": [
    "#(b) Plot the fitted curve onto the data\n",
    "fig, ax = plt.subplots(1,1)\n",
    "plt.scatter(x, y, marker='o', c=cols);\n",
    "ax.set(xlabel='Female Bill Length', ylabel='Female Breed Weight');\n",
    "xmin, xmax = ax.get_xbound() # get the plot bounds\n",
    "xp = [xmin, xmax]\n",
    "xpmat = pd.DataFrame({'logLength':xp})\n",
    "yp = fittedmodel.predict(xpmat)\n",
    "plt.plot(xp, yp, 'b-');"
   ]
  },
  {
   "cell_type": "code",
   "execution_count": 30,
   "metadata": {},
   "outputs": [
    {
     "data": {
      "image/png": "[encoded data removed]",
      "text/plain": [
       "<Figure size 432x288 with 1 Axes>"
      ]
     },
     "metadata": {
      "needs_background": "light"
     },
     "output_type": "display_data"
    }
   ],
   "source": [
    "#(c) Draw a scatter plot of the residuals and comment on them\n",
    "#x = data['logLength']\n",
    "#y = residuals\n",
    "fig, ax = plt.subplots(1,1)\n",
    "plt.scatter( data['logLength'], residuals, marker='o', c=cols);\n",
    "ax.set(xlabel='log(Length)', ylabel='Residual');\n",
    "xmin, xmax = ax.get_xbound() # get the plot bounds\n",
    "xp = [xmin,xmax] # store these as a vector\n",
    "yp = [0, 0]\n",
    "plt.plot(xp, yp, 'b-');"
   ]
  },
  {
   "cell_type": "markdown",
   "metadata": {},
   "source": [
    "------------COMMENT FOR QUESTION13(C)------comment on plot of residuals----------\n",
    "\n",
    "We have a somewhat even scatter around zero.\n",
    "This is a good fit for the residuals."
   ]
  },
  {
   "cell_type": "markdown",
   "metadata": {},
   "source": [
    "14. Now add Sexual Dimorphism as a covariate, and see if that improves the model by inspecting the residual scatter plot."
   ]
  },
  {
   "cell_type": "code",
   "execution_count": 31,
   "metadata": {},
   "outputs": [
    {
     "data": {
      "text/html": [
       "<table class=\"simpletable\">\n",
       "<caption>OLS Regression Results</caption>\n",
       "<tr>\n",
       "  <th>Dep. Variable:</th>        <td>logWeight</td>    <th>  R-squared:         </th> <td>   0.558</td>\n",
       "</tr>\n",
       "<tr>\n",
       "  <th>Model:</th>                   <td>OLS</td>       <th>  Adj. R-squared:    </th> <td>   0.555</td>\n",
       "</tr>\n",
       "<tr>\n",
       "  <th>Method:</th>             <td>Least Squares</td>  <th>  F-statistic:       </th> <td>   207.2</td>\n",
       "</tr>\n",
       "<tr>\n",
       "  <th>Date:</th>             <td>Wed, 13 May 2020</td> <th>  Prob (F-statistic):</th> <td>7.31e-87</td>\n",
       "</tr>\n",
       "<tr>\n",
       "  <th>Time:</th>                 <td>13:23:32</td>     <th>  Log-Likelihood:    </th> <td> -801.73</td>\n",
       "</tr>\n",
       "<tr>\n",
       "  <th>No. Observations:</th>      <td>   496</td>      <th>  AIC:               </th> <td>   1611.</td>\n",
       "</tr>\n",
       "<tr>\n",
       "  <th>Df Residuals:</th>          <td>   492</td>      <th>  BIC:               </th> <td>   1628.</td>\n",
       "</tr>\n",
       "<tr>\n",
       "  <th>Df Model:</th>              <td>     3</td>      <th>                     </th>     <td> </td>   \n",
       "</tr>\n",
       "<tr>\n",
       "  <th>Covariance Type:</th>      <td>nonrobust</td>    <th>                     </th>     <td> </td>   \n",
       "</tr>\n",
       "</table>\n",
       "<table class=\"simpletable\">\n",
       "<tr>\n",
       "                    <td></td>                      <th>coef</th>     <th>std err</th>      <th>t</th>      <th>P>|t|</th>  <th>[0.025</th>    <th>0.975]</th>  \n",
       "</tr>\n",
       "<tr>\n",
       "  <th>Intercept</th>                            <td>   -1.8215</td> <td>    0.326</td> <td>   -5.581</td> <td> 0.000</td> <td>   -2.463</td> <td>   -1.180</td>\n",
       "</tr>\n",
       "<tr>\n",
       "  <th>C(SexualDimorphism)[T.1.0]</th>           <td>   -0.7895</td> <td>    0.686</td> <td>   -1.151</td> <td> 0.250</td> <td>   -2.137</td> <td>    0.559</td>\n",
       "</tr>\n",
       "<tr>\n",
       "  <th>logLength</th>                            <td>    2.0863</td> <td>    0.097</td> <td>   21.403</td> <td> 0.000</td> <td>    1.895</td> <td>    2.278</td>\n",
       "</tr>\n",
       "<tr>\n",
       "  <th>logLength:C(SexualDimorphism)[T.1.0]</th> <td>    0.2676</td> <td>    0.221</td> <td>    1.211</td> <td> 0.227</td> <td>   -0.167</td> <td>    0.702</td>\n",
       "</tr>\n",
       "</table>\n",
       "<table class=\"simpletable\">\n",
       "<tr>\n",
       "  <th>Omnibus:</th>       <td>29.641</td> <th>  Durbin-Watson:     </th> <td>   0.304</td>\n",
       "</tr>\n",
       "<tr>\n",
       "  <th>Prob(Omnibus):</th> <td> 0.000</td> <th>  Jarque-Bera (JB):  </th> <td>  31.176</td>\n",
       "</tr>\n",
       "<tr>\n",
       "  <th>Skew:</th>          <td> 0.580</td> <th>  Prob(JB):          </th> <td>1.70e-07</td>\n",
       "</tr>\n",
       "<tr>\n",
       "  <th>Kurtosis:</th>      <td> 2.598</td> <th>  Cond. No.          </th> <td>    48.1</td>\n",
       "</tr>\n",
       "</table><br/><br/>Warnings:<br/>[1] Standard Errors assume that the covariance matrix of the errors is correctly specified."
      ],
      "text/plain": [
       "<class 'statsmodels.iolib.summary.Summary'>\n",
       "\"\"\"\n",
       "                            OLS Regression Results                            \n",
       "==============================================================================\n",
       "Dep. Variable:              logWeight   R-squared:                       0.558\n",
       "Model:                            OLS   Adj. R-squared:                  0.555\n",
       "Method:                 Least Squares   F-statistic:                     207.2\n",
       "Date:                Wed, 13 May 2020   Prob (F-statistic):           7.31e-87\n",
       "Time:                        13:23:32   Log-Likelihood:                -801.73\n",
       "No. Observations:                 496   AIC:                             1611.\n",
       "Df Residuals:                     492   BIC:                             1628.\n",
       "Df Model:                           3                                         \n",
       "Covariance Type:            nonrobust                                         \n",
       "========================================================================================================\n",
       "                                           coef    std err          t      P>|t|      [0.025      0.975]\n",
       "--------------------------------------------------------------------------------------------------------\n",
       "Intercept                               -1.8215      0.326     -5.581      0.000      -2.463      -1.180\n",
       "C(SexualDimorphism)[T.1.0]              -0.7895      0.686     -1.151      0.250      -2.137       0.559\n",
       "logLength                                2.0863      0.097     21.403      0.000       1.895       2.278\n",
       "logLength:C(SexualDimorphism)[T.1.0]     0.2676      0.221      1.211      0.227      -0.167       0.702\n",
       "==============================================================================\n",
       "Omnibus:                       29.641   Durbin-Watson:                   0.304\n",
       "Prob(Omnibus):                  0.000   Jarque-Bera (JB):               31.176\n",
       "Skew:                           0.580   Prob(JB):                     1.70e-07\n",
       "Kurtosis:                       2.598   Cond. No.                         48.1\n",
       "==============================================================================\n",
       "\n",
       "Warnings:\n",
       "[1] Standard Errors assume that the covariance matrix of the errors is correctly specified.\n",
       "\"\"\""
      ]
     },
     "execution_count": 31,
     "metadata": {},
     "output_type": "execute_result"
    }
   ],
   "source": [
    "#Question 14: add Sexual Dimorphism as a covariate\n",
    "#inspecting the residual scatter plot.\n",
    "\n",
    "#fitted and trained..\n",
    "fittedmodel = smf.ols(formula=\"logWeight ~ logLength*C(SexualDimorphism)\", data=data).fit()\n",
    "fittedmodel.summary()"
   ]
  },
  {
   "cell_type": "code",
   "execution_count": 32,
   "metadata": {},
   "outputs": [
    {
     "data": {
      "image/png": "[encoded data removed]",
      "text/plain": [
       "<Figure size 432x288 with 1 Axes>"
      ]
     },
     "metadata": {
      "needs_background": "light"
     },
     "output_type": "display_data"
    }
   ],
   "source": [
    "predictions = fittedmodel.predict(data)\n",
    "residuals = data['logWeight'] - predictions\n",
    "\n",
    "fig, ax = plt.subplots(1,1)\n",
    "plt.scatter(data['logLength'], residuals, marker='o', c=cols);\n",
    "ax.set(xlabel='log(length)', ylabel='Residual');\n",
    "xmin, xmax = ax.get_xbound() # get the plot bounds\n",
    "xp = [xmin,xmax] # store these as a vector\n",
    "yp = [0, 0]\n",
    "plt.plot(xp, yp, 'b-');"
   ]
  },
  {
   "cell_type": "code",
   "execution_count": 37,
   "metadata": {},
   "outputs": [
    {
     "data": {
      "image/png": "[encoded data removed]",
      "text/plain": [
       "<Figure size 432x288 with 1 Axes>"
      ]
     },
     "metadata": {
      "needs_background": "light"
     },
     "output_type": "display_data"
    }
   ],
   "source": [
    "fig, ax = plt.subplots(1,1)\n",
    "plt.scatter(x, y, marker='o', c=cols);\n",
    "ax.set(xlabel='log(length)', ylabel='log(weight)');\n",
    "xmin, xmax = ax.get_xbound() # get the plot bounds\n",
    "xp = np.linspace(xmin, xmax, 101)\n",
    "xpmat = pd.DataFrame({'logLength':xp})\n",
    "xpmat['SexualDimorphism'] = 0\n",
    "yp = fittedmodel.predict(xpmat)\n",
    "plt.plot(xp, yp, 'b-');\n",
    "xpmat['SexualDimorphism'] = 1\n",
    "yp = fittedmodel.predict(xpmat)\n",
    "plt.plot(xp, yp, 'r-');"
   ]
  },
  {
   "cell_type": "code",
   "execution_count": null,
   "metadata": {},
   "outputs": [],
   "source": []
  }
 ],
 "metadata": {
  "kernelspec": {
   "display_name": "Python 3",
   "language": "python",
   "name": "python3"
  },
  "language_info": {
   "codemirror_mode": {
    "name": "ipython",
    "version": 3
   },
   "file_extension": ".py",
   "mimetype": "text/x-python",
   "name": "python",
   "nbconvert_exporter": "python",
   "pygments_lexer": "ipython3",
   "version": "3.8.3"
  }
 },
 "nbformat": 4,
 "nbformat_minor": 2
}
